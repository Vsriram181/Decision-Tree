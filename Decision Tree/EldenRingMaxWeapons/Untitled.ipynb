{
 "cells": [
  {
   "cell_type": "code",
   "execution_count": 1,
   "id": "147af96c-f363-4872-9558-d388c65b65dc",
   "metadata": {},
   "outputs": [
    {
     "data": {
      "text/html": [
       "<div>\n",
       "<style scoped>\n",
       "    .dataframe tbody tr th:only-of-type {\n",
       "        vertical-align: middle;\n",
       "    }\n",
       "\n",
       "    .dataframe tbody tr th {\n",
       "        vertical-align: top;\n",
       "    }\n",
       "\n",
       "    .dataframe thead th {\n",
       "        text-align: right;\n",
       "    }\n",
       "</style>\n",
       "<table border=\"1\" class=\"dataframe\">\n",
       "  <thead>\n",
       "    <tr style=\"text-align: right;\">\n",
       "      <th></th>\n",
       "      <th>weapon_name</th>\n",
       "      <th>physical_dmg</th>\n",
       "      <th>magic_dmg</th>\n",
       "      <th>fire_dmg</th>\n",
       "      <th>lightning_dmg</th>\n",
       "      <th>holy_dmg</th>\n",
       "      <th>crit_multiplier</th>\n",
       "      <th>poise_dmg</th>\n",
       "      <th>strength_scaling</th>\n",
       "      <th>dexterity_scaling</th>\n",
       "      <th>...</th>\n",
       "      <th>physical_def</th>\n",
       "      <th>magic_def</th>\n",
       "      <th>fire_def</th>\n",
       "      <th>lightning_def</th>\n",
       "      <th>holy_def</th>\n",
       "      <th>guard_boost</th>\n",
       "      <th>status_resistance</th>\n",
       "      <th>weight</th>\n",
       "      <th>weapon_type</th>\n",
       "      <th>affinity</th>\n",
       "    </tr>\n",
       "  </thead>\n",
       "  <tbody>\n",
       "    <tr>\n",
       "      <th>0</th>\n",
       "      <td>Rogier's Rapier (heavy)</td>\n",
       "      <td>209</td>\n",
       "      <td>0</td>\n",
       "      <td>0</td>\n",
       "      <td>0</td>\n",
       "      <td>0</td>\n",
       "      <td>110</td>\n",
       "      <td>62</td>\n",
       "      <td>A</td>\n",
       "      <td>Z</td>\n",
       "      <td>...</td>\n",
       "      <td>49.0</td>\n",
       "      <td>33.0</td>\n",
       "      <td>33.0</td>\n",
       "      <td>33.0</td>\n",
       "      <td>33.0</td>\n",
       "      <td>24.2</td>\n",
       "      <td>11.0</td>\n",
       "      <td>3.5</td>\n",
       "      <td>ThrustingSwords</td>\n",
       "      <td>heavy</td>\n",
       "    </tr>\n",
       "    <tr>\n",
       "      <th>1</th>\n",
       "      <td>Rapier (heavy)</td>\n",
       "      <td>216</td>\n",
       "      <td>0</td>\n",
       "      <td>0</td>\n",
       "      <td>0</td>\n",
       "      <td>0</td>\n",
       "      <td>130</td>\n",
       "      <td>60</td>\n",
       "      <td>B</td>\n",
       "      <td>Z</td>\n",
       "      <td>...</td>\n",
       "      <td>45.0</td>\n",
       "      <td>30.0</td>\n",
       "      <td>30.0</td>\n",
       "      <td>30.0</td>\n",
       "      <td>30.0</td>\n",
       "      <td>22.0</td>\n",
       "      <td>10.0</td>\n",
       "      <td>2.5</td>\n",
       "      <td>ThrustingSwords</td>\n",
       "      <td>heavy</td>\n",
       "    </tr>\n",
       "    <tr>\n",
       "      <th>2</th>\n",
       "      <td>Noble's Estoc (heavy)</td>\n",
       "      <td>232</td>\n",
       "      <td>0</td>\n",
       "      <td>0</td>\n",
       "      <td>0</td>\n",
       "      <td>0</td>\n",
       "      <td>100</td>\n",
       "      <td>60</td>\n",
       "      <td>B</td>\n",
       "      <td>Z</td>\n",
       "      <td>...</td>\n",
       "      <td>49.0</td>\n",
       "      <td>33.0</td>\n",
       "      <td>33.0</td>\n",
       "      <td>33.0</td>\n",
       "      <td>33.0</td>\n",
       "      <td>24.2</td>\n",
       "      <td>11.0</td>\n",
       "      <td>3.5</td>\n",
       "      <td>ThrustingSwords</td>\n",
       "      <td>heavy</td>\n",
       "    </tr>\n",
       "    <tr>\n",
       "      <th>3</th>\n",
       "      <td>Estoc (heavy)</td>\n",
       "      <td>239</td>\n",
       "      <td>0</td>\n",
       "      <td>0</td>\n",
       "      <td>0</td>\n",
       "      <td>0</td>\n",
       "      <td>100</td>\n",
       "      <td>66</td>\n",
       "      <td>B</td>\n",
       "      <td>Z</td>\n",
       "      <td>...</td>\n",
       "      <td>54.0</td>\n",
       "      <td>36.0</td>\n",
       "      <td>36.0</td>\n",
       "      <td>36.0</td>\n",
       "      <td>36.0</td>\n",
       "      <td>26.4</td>\n",
       "      <td>12.0</td>\n",
       "      <td>4.5</td>\n",
       "      <td>ThrustingSwords</td>\n",
       "      <td>heavy</td>\n",
       "    </tr>\n",
       "    <tr>\n",
       "      <th>4</th>\n",
       "      <td>Cleanrot Knight's Sword (heavy)</td>\n",
       "      <td>244</td>\n",
       "      <td>0</td>\n",
       "      <td>0</td>\n",
       "      <td>0</td>\n",
       "      <td>0</td>\n",
       "      <td>100</td>\n",
       "      <td>66</td>\n",
       "      <td>B</td>\n",
       "      <td>Z</td>\n",
       "      <td>...</td>\n",
       "      <td>51.0</td>\n",
       "      <td>34.0</td>\n",
       "      <td>34.0</td>\n",
       "      <td>34.0</td>\n",
       "      <td>34.0</td>\n",
       "      <td>25.3</td>\n",
       "      <td>11.0</td>\n",
       "      <td>4.0</td>\n",
       "      <td>ThrustingSwords</td>\n",
       "      <td>heavy</td>\n",
       "    </tr>\n",
       "  </tbody>\n",
       "</table>\n",
       "<p>5 rows × 23 columns</p>\n",
       "</div>"
      ],
      "text/plain": [
       "                       weapon_name  physical_dmg  magic_dmg  fire_dmg  \\\n",
       "0          Rogier's Rapier (heavy)           209          0         0   \n",
       "1                   Rapier (heavy)           216          0         0   \n",
       "2            Noble's Estoc (heavy)           232          0         0   \n",
       "3                    Estoc (heavy)           239          0         0   \n",
       "4  Cleanrot Knight's Sword (heavy)           244          0         0   \n",
       "\n",
       "   lightning_dmg  holy_dmg  crit_multiplier poise_dmg strength_scaling  \\\n",
       "0              0         0              110        62                A   \n",
       "1              0         0              130        60                B   \n",
       "2              0         0              100        60                B   \n",
       "3              0         0              100        66                B   \n",
       "4              0         0              100        66                B   \n",
       "\n",
       "  dexterity_scaling  ... physical_def magic_def fire_def  lightning_def  \\\n",
       "0                 Z  ...         49.0      33.0     33.0           33.0   \n",
       "1                 Z  ...         45.0      30.0     30.0           30.0   \n",
       "2                 Z  ...         49.0      33.0     33.0           33.0   \n",
       "3                 Z  ...         54.0      36.0     36.0           36.0   \n",
       "4                 Z  ...         51.0      34.0     34.0           34.0   \n",
       "\n",
       "   holy_def  guard_boost  status_resistance  weight      weapon_type  affinity  \n",
       "0      33.0         24.2               11.0     3.5  ThrustingSwords     heavy  \n",
       "1      30.0         22.0               10.0     2.5  ThrustingSwords     heavy  \n",
       "2      33.0         24.2               11.0     3.5  ThrustingSwords     heavy  \n",
       "3      36.0         26.4               12.0     4.5  ThrustingSwords     heavy  \n",
       "4      34.0         25.3               11.0     4.0  ThrustingSwords     heavy  \n",
       "\n",
       "[5 rows x 23 columns]"
      ]
     },
     "execution_count": 1,
     "metadata": {},
     "output_type": "execute_result"
    }
   ],
   "source": [
    "import pandas as pd\n",
    "df = pd.read_csv(\"EldenRingMaxWeapons.csv\")\n",
    "df.head()"
   ]
  },
  {
   "cell_type": "code",
   "execution_count": 2,
   "id": "150cf62c-0933-4d25-9168-914d68a45242",
   "metadata": {},
   "outputs": [
    {
     "data": {
      "text/plain": [
       "(1942, 23)"
      ]
     },
     "execution_count": 2,
     "metadata": {},
     "output_type": "execute_result"
    }
   ],
   "source": [
    "df.shape"
   ]
  },
  {
   "cell_type": "code",
   "execution_count": 3,
   "id": "125c3d39-27f5-48ca-a109-8757a94bc2bf",
   "metadata": {},
   "outputs": [
    {
     "data": {
      "text/plain": [
       "weapon_name              object\n",
       "physical_dmg              int64\n",
       "magic_dmg                 int64\n",
       "fire_dmg                  int64\n",
       "lightning_dmg             int64\n",
       "holy_dmg                  int64\n",
       "crit_multiplier           int64\n",
       "poise_dmg                object\n",
       "strength_scaling         object\n",
       "dexterity_scaling        object\n",
       "intelligence_scaling     object\n",
       "faith_scaling            object\n",
       "arcane_scaling           object\n",
       "physical_def            float64\n",
       "magic_def               float64\n",
       "fire_def                float64\n",
       "lightning_def           float64\n",
       "holy_def                float64\n",
       "guard_boost             float64\n",
       "status_resistance       float64\n",
       "weight                  float64\n",
       "weapon_type              object\n",
       "affinity                 object\n",
       "dtype: object"
      ]
     },
     "execution_count": 3,
     "metadata": {},
     "output_type": "execute_result"
    }
   ],
   "source": [
    "df.dtypes"
   ]
  },
  {
   "cell_type": "code",
   "execution_count": 4,
   "id": "428eb2a2-9f9e-4232-a976-2408998d1858",
   "metadata": {},
   "outputs": [],
   "source": [
    "df.drop([\"weapon_name\"],axis=1 , inplace=True)"
   ]
  },
  {
   "cell_type": "code",
   "execution_count": 5,
   "id": "888ea389-1f07-466d-8377-88d0d995ca86",
   "metadata": {},
   "outputs": [],
   "source": [
    "from sklearn.preprocessing import LabelEncoder\n",
    "le  = LabelEncoder()"
   ]
  },
  {
   "cell_type": "code",
   "execution_count": 6,
   "id": "0fa34ae9-4800-459e-8d32-40a17142fbcf",
   "metadata": {},
   "outputs": [],
   "source": [
    "df['poise_dmg']=le.fit_transform(df['poise_dmg'])\n",
    "df['strength_scaling']=le.fit_transform(df['strength_scaling'])\n",
    "df['dexterity_scaling']=le.fit_transform(df['dexterity_scaling'])\n",
    "df['intelligence_scaling']=le.fit_transform(df['intelligence_scaling'])\n",
    "df['faith_scaling']=le.fit_transform(df['faith_scaling'])\n",
    "df['arcane_scaling']=le.fit_transform(df['arcane_scaling'])\n",
    "df['weapon_type']=le.fit_transform(df['weapon_type'])\n",
    "df['affinity']=le.fit_transform(df['affinity'])"
   ]
  },
  {
   "cell_type": "code",
   "execution_count": 8,
   "id": "f6567164-a059-4dc4-94b3-f5a3dcfc9ac8",
   "metadata": {},
   "outputs": [
    {
     "data": {
      "text/plain": [
       "physical_dmg              int64\n",
       "magic_dmg                 int64\n",
       "fire_dmg                  int64\n",
       "lightning_dmg             int64\n",
       "holy_dmg                  int64\n",
       "crit_multiplier           int64\n",
       "poise_dmg                 int32\n",
       "strength_scaling          int32\n",
       "dexterity_scaling         int32\n",
       "intelligence_scaling      int32\n",
       "faith_scaling             int32\n",
       "arcane_scaling            int32\n",
       "physical_def            float64\n",
       "magic_def               float64\n",
       "fire_def                float64\n",
       "lightning_def           float64\n",
       "holy_def                float64\n",
       "guard_boost             float64\n",
       "status_resistance       float64\n",
       "weight                  float64\n",
       "weapon_type               int32\n",
       "affinity                  int32\n",
       "dtype: object"
      ]
     },
     "execution_count": 8,
     "metadata": {},
     "output_type": "execute_result"
    }
   ],
   "source": [
    "df.dtypes"
   ]
  },
  {
   "cell_type": "code",
   "execution_count": 9,
   "id": "bd37b285-ccff-426d-8fc2-ee427c015ee5",
   "metadata": {},
   "outputs": [
    {
     "data": {
      "text/html": [
       "<div>\n",
       "<style scoped>\n",
       "    .dataframe tbody tr th:only-of-type {\n",
       "        vertical-align: middle;\n",
       "    }\n",
       "\n",
       "    .dataframe tbody tr th {\n",
       "        vertical-align: top;\n",
       "    }\n",
       "\n",
       "    .dataframe thead th {\n",
       "        text-align: right;\n",
       "    }\n",
       "</style>\n",
       "<table border=\"1\" class=\"dataframe\">\n",
       "  <thead>\n",
       "    <tr style=\"text-align: right;\">\n",
       "      <th></th>\n",
       "      <th>physical_dmg</th>\n",
       "      <th>magic_dmg</th>\n",
       "      <th>fire_dmg</th>\n",
       "      <th>lightning_dmg</th>\n",
       "      <th>holy_dmg</th>\n",
       "      <th>crit_multiplier</th>\n",
       "      <th>poise_dmg</th>\n",
       "      <th>strength_scaling</th>\n",
       "      <th>dexterity_scaling</th>\n",
       "      <th>intelligence_scaling</th>\n",
       "      <th>...</th>\n",
       "      <th>physical_def</th>\n",
       "      <th>magic_def</th>\n",
       "      <th>fire_def</th>\n",
       "      <th>lightning_def</th>\n",
       "      <th>holy_def</th>\n",
       "      <th>guard_boost</th>\n",
       "      <th>status_resistance</th>\n",
       "      <th>weight</th>\n",
       "      <th>weapon_type</th>\n",
       "      <th>affinity</th>\n",
       "    </tr>\n",
       "  </thead>\n",
       "  <tbody>\n",
       "    <tr>\n",
       "      <th>0</th>\n",
       "      <td>209</td>\n",
       "      <td>0</td>\n",
       "      <td>0</td>\n",
       "      <td>0</td>\n",
       "      <td>0</td>\n",
       "      <td>110</td>\n",
       "      <td>67</td>\n",
       "      <td>0</td>\n",
       "      <td>6</td>\n",
       "      <td>6</td>\n",
       "      <td>...</td>\n",
       "      <td>49.0</td>\n",
       "      <td>33.0</td>\n",
       "      <td>33.0</td>\n",
       "      <td>33.0</td>\n",
       "      <td>33.0</td>\n",
       "      <td>24.2</td>\n",
       "      <td>11.0</td>\n",
       "      <td>3.5</td>\n",
       "      <td>26</td>\n",
       "      <td>4</td>\n",
       "    </tr>\n",
       "    <tr>\n",
       "      <th>1</th>\n",
       "      <td>216</td>\n",
       "      <td>0</td>\n",
       "      <td>0</td>\n",
       "      <td>0</td>\n",
       "      <td>0</td>\n",
       "      <td>130</td>\n",
       "      <td>65</td>\n",
       "      <td>1</td>\n",
       "      <td>6</td>\n",
       "      <td>6</td>\n",
       "      <td>...</td>\n",
       "      <td>45.0</td>\n",
       "      <td>30.0</td>\n",
       "      <td>30.0</td>\n",
       "      <td>30.0</td>\n",
       "      <td>30.0</td>\n",
       "      <td>22.0</td>\n",
       "      <td>10.0</td>\n",
       "      <td>2.5</td>\n",
       "      <td>26</td>\n",
       "      <td>4</td>\n",
       "    </tr>\n",
       "    <tr>\n",
       "      <th>2</th>\n",
       "      <td>232</td>\n",
       "      <td>0</td>\n",
       "      <td>0</td>\n",
       "      <td>0</td>\n",
       "      <td>0</td>\n",
       "      <td>100</td>\n",
       "      <td>65</td>\n",
       "      <td>1</td>\n",
       "      <td>6</td>\n",
       "      <td>6</td>\n",
       "      <td>...</td>\n",
       "      <td>49.0</td>\n",
       "      <td>33.0</td>\n",
       "      <td>33.0</td>\n",
       "      <td>33.0</td>\n",
       "      <td>33.0</td>\n",
       "      <td>24.2</td>\n",
       "      <td>11.0</td>\n",
       "      <td>3.5</td>\n",
       "      <td>26</td>\n",
       "      <td>4</td>\n",
       "    </tr>\n",
       "    <tr>\n",
       "      <th>3</th>\n",
       "      <td>239</td>\n",
       "      <td>0</td>\n",
       "      <td>0</td>\n",
       "      <td>0</td>\n",
       "      <td>0</td>\n",
       "      <td>100</td>\n",
       "      <td>68</td>\n",
       "      <td>1</td>\n",
       "      <td>6</td>\n",
       "      <td>6</td>\n",
       "      <td>...</td>\n",
       "      <td>54.0</td>\n",
       "      <td>36.0</td>\n",
       "      <td>36.0</td>\n",
       "      <td>36.0</td>\n",
       "      <td>36.0</td>\n",
       "      <td>26.4</td>\n",
       "      <td>12.0</td>\n",
       "      <td>4.5</td>\n",
       "      <td>26</td>\n",
       "      <td>4</td>\n",
       "    </tr>\n",
       "    <tr>\n",
       "      <th>4</th>\n",
       "      <td>244</td>\n",
       "      <td>0</td>\n",
       "      <td>0</td>\n",
       "      <td>0</td>\n",
       "      <td>0</td>\n",
       "      <td>100</td>\n",
       "      <td>68</td>\n",
       "      <td>1</td>\n",
       "      <td>6</td>\n",
       "      <td>6</td>\n",
       "      <td>...</td>\n",
       "      <td>51.0</td>\n",
       "      <td>34.0</td>\n",
       "      <td>34.0</td>\n",
       "      <td>34.0</td>\n",
       "      <td>34.0</td>\n",
       "      <td>25.3</td>\n",
       "      <td>11.0</td>\n",
       "      <td>4.0</td>\n",
       "      <td>26</td>\n",
       "      <td>4</td>\n",
       "    </tr>\n",
       "  </tbody>\n",
       "</table>\n",
       "<p>5 rows × 22 columns</p>\n",
       "</div>"
      ],
      "text/plain": [
       "   physical_dmg  magic_dmg  fire_dmg  lightning_dmg  holy_dmg  \\\n",
       "0           209          0         0              0         0   \n",
       "1           216          0         0              0         0   \n",
       "2           232          0         0              0         0   \n",
       "3           239          0         0              0         0   \n",
       "4           244          0         0              0         0   \n",
       "\n",
       "   crit_multiplier  poise_dmg  strength_scaling  dexterity_scaling  \\\n",
       "0              110         67                 0                  6   \n",
       "1              130         65                 1                  6   \n",
       "2              100         65                 1                  6   \n",
       "3              100         68                 1                  6   \n",
       "4              100         68                 1                  6   \n",
       "\n",
       "   intelligence_scaling  ...  physical_def  magic_def  fire_def  \\\n",
       "0                     6  ...          49.0       33.0      33.0   \n",
       "1                     6  ...          45.0       30.0      30.0   \n",
       "2                     6  ...          49.0       33.0      33.0   \n",
       "3                     6  ...          54.0       36.0      36.0   \n",
       "4                     6  ...          51.0       34.0      34.0   \n",
       "\n",
       "   lightning_def  holy_def  guard_boost  status_resistance  weight  \\\n",
       "0           33.0      33.0         24.2               11.0     3.5   \n",
       "1           30.0      30.0         22.0               10.0     2.5   \n",
       "2           33.0      33.0         24.2               11.0     3.5   \n",
       "3           36.0      36.0         26.4               12.0     4.5   \n",
       "4           34.0      34.0         25.3               11.0     4.0   \n",
       "\n",
       "   weapon_type  affinity  \n",
       "0           26         4  \n",
       "1           26         4  \n",
       "2           26         4  \n",
       "3           26         4  \n",
       "4           26         4  \n",
       "\n",
       "[5 rows x 22 columns]"
      ]
     },
     "execution_count": 9,
     "metadata": {},
     "output_type": "execute_result"
    }
   ],
   "source": [
    "df.head()"
   ]
  },
  {
   "cell_type": "code",
   "execution_count": 10,
   "id": "93deebf0-1f56-46e7-bc55-aea931dc5e47",
   "metadata": {},
   "outputs": [],
   "source": [
    "from sklearn.model_selection import train_test_split\n",
    "X,y=df.drop(['affinity'],axis=1),df.affinity\n",
    "X_train,X_test,y_train,y_test=train_test_split(X,y,test_size=0.2,random_state=42)"
   ]
  },
  {
   "cell_type": "code",
   "execution_count": 11,
   "id": "897ea8d1-fdc7-4af3-9bc9-06ad2808802d",
   "metadata": {},
   "outputs": [
    {
     "data": {
      "text/plain": [
       "(1553, 21)"
      ]
     },
     "execution_count": 11,
     "metadata": {},
     "output_type": "execute_result"
    }
   ],
   "source": [
    "X_train.shape"
   ]
  },
  {
   "cell_type": "code",
   "execution_count": 12,
   "id": "9dc06101-e5d7-40f4-ae01-d376394be6dc",
   "metadata": {},
   "outputs": [
    {
     "data": {
      "text/plain": [
       "(389, 21)"
      ]
     },
     "execution_count": 12,
     "metadata": {},
     "output_type": "execute_result"
    }
   ],
   "source": [
    "X_test.shape"
   ]
  },
  {
   "cell_type": "code",
   "execution_count": 13,
   "id": "34da0038-3bdf-4184-bd31-080187ead0a5",
   "metadata": {},
   "outputs": [],
   "source": [
    "from sklearn import tree"
   ]
  },
  {
   "cell_type": "code",
   "execution_count": 14,
   "id": "5b1126e3-9088-4809-a154-e40f2dc4f515",
   "metadata": {},
   "outputs": [],
   "source": [
    "model = tree.DecisionTreeClassifier()"
   ]
  },
  {
   "cell_type": "code",
   "execution_count": 15,
   "id": "e6c795d8-7a11-43c7-992d-bd369c1ba2a7",
   "metadata": {},
   "outputs": [
    {
     "data": {
      "text/html": [
       "<style>#sk-container-id-1 {color: black;background-color: white;}#sk-container-id-1 pre{padding: 0;}#sk-container-id-1 div.sk-toggleable {background-color: white;}#sk-container-id-1 label.sk-toggleable__label {cursor: pointer;display: block;width: 100%;margin-bottom: 0;padding: 0.3em;box-sizing: border-box;text-align: center;}#sk-container-id-1 label.sk-toggleable__label-arrow:before {content: \"▸\";float: left;margin-right: 0.25em;color: #696969;}#sk-container-id-1 label.sk-toggleable__label-arrow:hover:before {color: black;}#sk-container-id-1 div.sk-estimator:hover label.sk-toggleable__label-arrow:before {color: black;}#sk-container-id-1 div.sk-toggleable__content {max-height: 0;max-width: 0;overflow: hidden;text-align: left;background-color: #f0f8ff;}#sk-container-id-1 div.sk-toggleable__content pre {margin: 0.2em;color: black;border-radius: 0.25em;background-color: #f0f8ff;}#sk-container-id-1 input.sk-toggleable__control:checked~div.sk-toggleable__content {max-height: 200px;max-width: 100%;overflow: auto;}#sk-container-id-1 input.sk-toggleable__control:checked~label.sk-toggleable__label-arrow:before {content: \"▾\";}#sk-container-id-1 div.sk-estimator input.sk-toggleable__control:checked~label.sk-toggleable__label {background-color: #d4ebff;}#sk-container-id-1 div.sk-label input.sk-toggleable__control:checked~label.sk-toggleable__label {background-color: #d4ebff;}#sk-container-id-1 input.sk-hidden--visually {border: 0;clip: rect(1px 1px 1px 1px);clip: rect(1px, 1px, 1px, 1px);height: 1px;margin: -1px;overflow: hidden;padding: 0;position: absolute;width: 1px;}#sk-container-id-1 div.sk-estimator {font-family: monospace;background-color: #f0f8ff;border: 1px dotted black;border-radius: 0.25em;box-sizing: border-box;margin-bottom: 0.5em;}#sk-container-id-1 div.sk-estimator:hover {background-color: #d4ebff;}#sk-container-id-1 div.sk-parallel-item::after {content: \"\";width: 100%;border-bottom: 1px solid gray;flex-grow: 1;}#sk-container-id-1 div.sk-label:hover label.sk-toggleable__label {background-color: #d4ebff;}#sk-container-id-1 div.sk-serial::before {content: \"\";position: absolute;border-left: 1px solid gray;box-sizing: border-box;top: 0;bottom: 0;left: 50%;z-index: 0;}#sk-container-id-1 div.sk-serial {display: flex;flex-direction: column;align-items: center;background-color: white;padding-right: 0.2em;padding-left: 0.2em;position: relative;}#sk-container-id-1 div.sk-item {position: relative;z-index: 1;}#sk-container-id-1 div.sk-parallel {display: flex;align-items: stretch;justify-content: center;background-color: white;position: relative;}#sk-container-id-1 div.sk-item::before, #sk-container-id-1 div.sk-parallel-item::before {content: \"\";position: absolute;border-left: 1px solid gray;box-sizing: border-box;top: 0;bottom: 0;left: 50%;z-index: -1;}#sk-container-id-1 div.sk-parallel-item {display: flex;flex-direction: column;z-index: 1;position: relative;background-color: white;}#sk-container-id-1 div.sk-parallel-item:first-child::after {align-self: flex-end;width: 50%;}#sk-container-id-1 div.sk-parallel-item:last-child::after {align-self: flex-start;width: 50%;}#sk-container-id-1 div.sk-parallel-item:only-child::after {width: 0;}#sk-container-id-1 div.sk-dashed-wrapped {border: 1px dashed gray;margin: 0 0.4em 0.5em 0.4em;box-sizing: border-box;padding-bottom: 0.4em;background-color: white;}#sk-container-id-1 div.sk-label label {font-family: monospace;font-weight: bold;display: inline-block;line-height: 1.2em;}#sk-container-id-1 div.sk-label-container {text-align: center;}#sk-container-id-1 div.sk-container {/* jupyter's `normalize.less` sets `[hidden] { display: none; }` but bootstrap.min.css set `[hidden] { display: none !important; }` so we also need the `!important` here to be able to override the default hidden behavior on the sphinx rendered scikit-learn.org. See: https://github.com/scikit-learn/scikit-learn/issues/21755 */display: inline-block !important;position: relative;}#sk-container-id-1 div.sk-text-repr-fallback {display: none;}</style><div id=\"sk-container-id-1\" class=\"sk-top-container\"><div class=\"sk-text-repr-fallback\"><pre>DecisionTreeClassifier()</pre><b>In a Jupyter environment, please rerun this cell to show the HTML representation or trust the notebook. <br />On GitHub, the HTML representation is unable to render, please try loading this page with nbviewer.org.</b></div><div class=\"sk-container\" hidden><div class=\"sk-item\"><div class=\"sk-estimator sk-toggleable\"><input class=\"sk-toggleable__control sk-hidden--visually\" id=\"sk-estimator-id-1\" type=\"checkbox\" checked><label for=\"sk-estimator-id-1\" class=\"sk-toggleable__label sk-toggleable__label-arrow\">DecisionTreeClassifier</label><div class=\"sk-toggleable__content\"><pre>DecisionTreeClassifier()</pre></div></div></div></div></div>"
      ],
      "text/plain": [
       "DecisionTreeClassifier()"
      ]
     },
     "execution_count": 15,
     "metadata": {},
     "output_type": "execute_result"
    }
   ],
   "source": [
    "model.fit(X_train,y_train)"
   ]
  },
  {
   "cell_type": "code",
   "execution_count": 16,
   "id": "827da384-185a-4189-bb09-ef9f7dc7f6b6",
   "metadata": {},
   "outputs": [
    {
     "data": {
      "text/plain": [
       "0.9254498714652957"
      ]
     },
     "execution_count": 16,
     "metadata": {},
     "output_type": "execute_result"
    }
   ],
   "source": [
    "model.score(X_test,y_test)"
   ]
  },
  {
   "cell_type": "code",
   "execution_count": 17,
   "id": "e2064ba5-6645-4bf0-a470-da8897e008d5",
   "metadata": {},
   "outputs": [
    {
     "data": {
      "text/plain": [
       "array([[30,  0,  0,  0,  0,  0,  0,  0,  0,  6,  0,  0,  0],\n",
       "       [ 0, 21,  0,  0,  0,  0,  0,  0,  0,  0,  0,  0,  3],\n",
       "       [ 0,  0, 17,  0,  0,  0,  0,  0,  0,  0,  0,  0,  1],\n",
       "       [ 0,  0,  0, 21,  0,  0,  0,  0,  0,  0,  0,  0,  0],\n",
       "       [ 0,  0,  0,  0, 26,  0,  0,  0,  0,  0,  0,  0,  2],\n",
       "       [ 0,  0,  0,  0,  0, 23,  0,  0,  0,  0,  0,  0,  4],\n",
       "       [ 0,  0,  0,  0,  0,  0, 28,  0,  0,  0,  0,  0,  0],\n",
       "       [ 0,  0,  0,  0,  0,  0,  0, 31,  0,  0,  0,  0,  0],\n",
       "       [ 0,  0,  0,  0,  0,  0,  0,  0, 34,  0,  0,  0,  0],\n",
       "       [ 2,  0,  0,  0,  0,  0,  0,  0,  0, 18,  0,  0,  0],\n",
       "       [ 0,  0,  0,  0,  0,  0,  0,  0,  0,  0, 17,  0,  0],\n",
       "       [ 0,  0,  0,  0,  0,  0,  0,  0,  0,  0,  1, 30,  0],\n",
       "       [ 1,  1,  0,  1,  4,  2,  0,  0,  0,  1,  0,  0, 64]], dtype=int64)"
      ]
     },
     "execution_count": 17,
     "metadata": {},
     "output_type": "execute_result"
    }
   ],
   "source": [
    "y_predicted = model.predict(X_test)\n",
    "from sklearn.metrics import confusion_matrix\n",
    "cm = confusion_matrix(y_test,y_predicted)\n",
    "cm"
   ]
  },
  {
   "cell_type": "code",
   "execution_count": 19,
   "id": "ee63e9f7-c397-4fd2-927b-326afa4a8100",
   "metadata": {},
   "outputs": [
    {
     "data": {
      "text/plain": [
       "Text(95.72222222222221, 0.5, 'Truth')"
      ]
     },
     "execution_count": 19,
     "metadata": {},
     "output_type": "execute_result"
    },
    {
     "data": {
      "image/png": "[encoded data removed]",
      "text/plain": [
       "<Figure size 1000x700 with 2 Axes>"
      ]
     },
     "metadata": {},
     "output_type": "display_data"
    }
   ],
   "source": [
    "import seaborn as sn\n",
    "import matplotlib.pyplot as plt\n",
    "plt.figure(figsize = (10,7))\n",
    "sn.heatmap(cm,annot=True )\n",
    "plt.xlabel('predicted')\n",
    "plt.ylabel('Truth')"
   ]
  },
  {
   "cell_type": "code",
   "execution_count": null,
   "id": "11039594-2742-4100-a726-6995ce5f95ba",
   "metadata": {},
   "outputs": [],
   "source": []
  }
 ],
 "metadata": {
  "kernelspec": {
   "display_name": "Python 3 (ipykernel)",
   "language": "python",
   "name": "python3"
  },
  "language_info": {
   "codemirror_mode": {
    "name": "ipython",
    "version": 3
   },
   "file_extension": ".py",
   "mimetype": "text/x-python",
   "name": "python",
   "nbconvert_exporter": "python",
   "pygments_lexer": "ipython3",
   "version": "3.11.7"
  }
 },
 "nbformat": 4,
 "nbformat_minor": 5
}
